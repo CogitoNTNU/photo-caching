{
 "cells": [
  {
   "cell_type": "code",
   "execution_count": 34,
   "metadata": {},
   "outputs": [
    {
     "output_type": "error",
     "ename": "ModuleNotFoundError",
     "evalue": "No module named 'matplotlib'",
     "traceback": [
      "\u001b[0;31m---------------------------------------------------------------------------\u001b[0m",
      "\u001b[0;31mModuleNotFoundError\u001b[0m                       Traceback (most recent call last)",
      "\u001b[0;32m<ipython-input-34-cd4cedfe65ed>\u001b[0m in \u001b[0;36m<module>\u001b[0;34m\u001b[0m\n\u001b[1;32m      1\u001b[0m \u001b[0;32mimport\u001b[0m \u001b[0mnumpy\u001b[0m \u001b[0;32mas\u001b[0m \u001b[0mnp\u001b[0m\u001b[0;34m\u001b[0m\u001b[0;34m\u001b[0m\u001b[0m\n\u001b[0;32m----> 2\u001b[0;31m \u001b[0;32mimport\u001b[0m \u001b[0mmatplotlib\u001b[0m\u001b[0;34m.\u001b[0m\u001b[0mpyplot\u001b[0m \u001b[0;32mas\u001b[0m \u001b[0mplt\u001b[0m\u001b[0;34m\u001b[0m\u001b[0;34m\u001b[0m\u001b[0m\n\u001b[0m\u001b[1;32m      3\u001b[0m \u001b[0;32mimport\u001b[0m \u001b[0mos\u001b[0m\u001b[0;34m\u001b[0m\u001b[0;34m\u001b[0m\u001b[0m\n\u001b[1;32m      4\u001b[0m \u001b[0;32mimport\u001b[0m \u001b[0mcv2\u001b[0m\u001b[0;34m\u001b[0m\u001b[0;34m\u001b[0m\u001b[0m\n\u001b[1;32m      5\u001b[0m \u001b[0;32mimport\u001b[0m \u001b[0mimghdr\u001b[0m\u001b[0;34m\u001b[0m\u001b[0;34m\u001b[0m\u001b[0m\n",
      "\u001b[0;31mModuleNotFoundError\u001b[0m: No module named 'matplotlib'"
     ]
    }
   ],
   "source": [
    "import numpy as np\n",
    "import matplotlib.pyplot as plt\n",
    "import os\n",
    "import cv2\n",
    "import imghdr"
   ]
  },
  {
   "cell_type": "code",
   "execution_count": 26,
   "metadata": {},
   "outputs": [
    {
     "output_type": "stream",
     "name": "stdout",
     "text": [
      ".\n{'./sykkelvei_eberg': ['DSC05040.JPG', '8.jpg', '9.jpg', '14.jpg', 'DSC05030.JPG', 'DSC05031.JPG', '15.jpg', 'DSC05033.JPG', 'DSC05032.JPG', '16.jpg', '12.jpg', 'DSC05036.JPG', 'DSC05037.JPG', '13.jpg', '11.jpg', 'DSC05035.JPG', 'DSC05034.JPG', '10.jpg', 'DSC05039.JPG', 'DSC05038.JPG', '4.jpg', '5.jpg', '7.jpg', '6.jpg', '2.jpg', '3.jpg', '1.jpg'], './klatrevegg_moholy': ['8.jpg', '9.jpg', '14.jpg', 'DSC05024.JPG', 'DSC05018.JPG', 'DSC05019.JPG', 'DSC05025.JPG', '15.jpg', '17.jpg', 'DSC05027.JPG', 'DSC05026.JPG', '16.jpg', '12.jpg', 'DSC05022.JPG', 'DSC05023.JPG', '13.jpg', '11.jpg', 'DSC05009.JPG', 'DSC05021.JPG', 'DSC05020.JPG', 'DSC05008.JPG', '10.jpg', '21.jpg', 'DSC05005.JPG', 'DSC05011.JPG', 'DSC05010.JPG', '20.jpg', '22.jpg', 'DSC05012.JPG', 'DSC05006.JPG', 'DSC05007.JPG', 'DSC05013.JPG', 'DSC05017.JPG', 'DSC05016.JPG', '18.jpg', 'DSC05028.JPG', 'DSC05014.JPG', 'DSC05015.JPG', 'DSC05029.JPG', '19.jpg', '4.jpg', '5.jpg', '7.jpg', '6.jpg', '2.jpg', '3.jpg', '1.jpg'], './moholt1': ['20211001_182812.jpg', '20211001_182811.jpg', '20211001_182814.jpg', '20211001_182816.jpg', '20211001_182818.jpg', '20211001_182819.jpg', '20211001_182821.jpg'], './dominos_moholt': ['20211001_182609.jpg', '20211001_182621.jpg', '20211001_182542.jpg', '20211001_182623.jpg', '.DS_Store', '20211001_182544.jpg', '20211001_182626.jpg', '20211001_182624.jpg', '20211001_182618.jpg', '20211001_182547.jpg', '20211001_182619.jpg', '20211001_182602.jpg', '20211001_182606.jpg', '20211001_182612.jpg']}\n"
     ]
    }
   ],
   "source": [
    "def get_folders_in_folder():\n",
    "    rootDir = '.'\n",
    "    folder_with_files = {}\n",
    "\n",
    "    for dir_name, subdir_list, file_list in os.walk(rootDir):\n",
    "        if(file_list != [] and imghdr.what(dir_name +\"/\" +file_list[0]) != None): #må muligens endres til / på andre datamaskiner\n",
    "            folder_with_files[dir_name] = file_list  \n",
    "    #for i in a:     se om riktig\n",
    "    #    print (i, \"\\n\", a[i])\n",
    "    return folder_with_files\n",
    "print(get_folders_in_folder())"
   ]
  },
  {
   "cell_type": "code",
   "execution_count": 33,
   "metadata": {},
   "outputs": [
    {
     "output_type": "stream",
     "name": "stdout",
     "text": [
      ".\n[['./sykkelvei_eberg/DSC05040.JPG', './sykkelvei_eberg/8.jpg'], ['./sykkelvei_eberg/DSC05040.JPG', './sykkelvei_eberg/9.jpg'], ['./sykkelvei_eberg/DSC05040.JPG', './sykkelvei_eberg/14.jpg'], ['./sykkelvei_eberg/DSC05040.JPG', './sykkelvei_eberg/DSC05030.JPG'], ['./sykkelvei_eberg/DSC05040.JPG', './sykkelvei_eberg/DSC05031.JPG'], ['./sykkelvei_eberg/DSC05040.JPG', './sykkelvei_eberg/15.jpg'], ['./sykkelvei_eberg/DSC05040.JPG', './sykkelvei_eberg/DSC05033.JPG'], ['./sykkelvei_eberg/DSC05040.JPG', './sykkelvei_eberg/DSC05032.JPG'], ['./sykkelvei_eberg/DSC05040.JPG', './sykkelvei_eberg/16.jpg'], ['./sykkelvei_eberg/DSC05040.JPG', './sykkelvei_eberg/12.jpg'], ['./sykkelvei_eberg/DSC05040.JPG', './sykkelvei_eberg/DSC05036.JPG'], ['./sykkelvei_eberg/DSC05040.JPG', './sykkelvei_eberg/DSC05037.JPG'], ['./sykkelvei_eberg/DSC05040.JPG', './sykkelvei_eberg/13.jpg'], ['./sykkelvei_eberg/DSC05040.JPG', './sykkelvei_eberg/11.jpg'], ['./sykkelvei_eberg/DSC05040.JPG', './sykkelvei_eberg/DSC05035.JPG'], ['./sykkelvei_eberg/DSC05040.JPG', './sykkelvei_eberg/DSC05034.JPG'], ['./sykkelvei_eberg/DSC05040.JPG', './sykkelvei_eberg/10.jpg'], ['./sykkelvei_eberg/DSC05040.JPG', './sykkelvei_eberg/DSC05039.JPG'], ['./sykkelvei_eberg/DSC05040.JPG', './sykkelvei_eberg/DSC05038.JPG'], ['./sykkelvei_eberg/DSC05040.JPG', './sykkelvei_eberg/4.jpg'], ['./sykkelvei_eberg/DSC05040.JPG', './sykkelvei_eberg/5.jpg'], ['./sykkelvei_eberg/DSC05040.JPG', './sykkelvei_eberg/7.jpg'], ['./sykkelvei_eberg/DSC05040.JPG', './sykkelvei_eberg/6.jpg'], ['./sykkelvei_eberg/DSC05040.JPG', './sykkelvei_eberg/2.jpg'], ['./sykkelvei_eberg/DSC05040.JPG', './sykkelvei_eberg/3.jpg'], ['./sykkelvei_eberg/DSC05040.JPG', './sykkelvei_eberg/1.jpg'], ['./klatrevegg_moholy/9.jpg', './klatrevegg_moholy/8.jpg'], ['./klatrevegg_moholy/9.jpg', './klatrevegg_moholy/14.jpg'], ['./klatrevegg_moholy/9.jpg', './klatrevegg_moholy/DSC05024.JPG'], ['./klatrevegg_moholy/9.jpg', './klatrevegg_moholy/DSC05018.JPG'], ['./klatrevegg_moholy/9.jpg', './klatrevegg_moholy/DSC05019.JPG'], ['./klatrevegg_moholy/9.jpg', './klatrevegg_moholy/DSC05025.JPG'], ['./klatrevegg_moholy/9.jpg', './klatrevegg_moholy/15.jpg'], ['./klatrevegg_moholy/9.jpg', './klatrevegg_moholy/17.jpg'], ['./klatrevegg_moholy/9.jpg', './klatrevegg_moholy/DSC05027.JPG'], ['./klatrevegg_moholy/9.jpg', './klatrevegg_moholy/DSC05026.JPG'], ['./klatrevegg_moholy/9.jpg', './klatrevegg_moholy/16.jpg'], ['./klatrevegg_moholy/9.jpg', './klatrevegg_moholy/12.jpg'], ['./klatrevegg_moholy/9.jpg', './klatrevegg_moholy/DSC05022.JPG'], ['./klatrevegg_moholy/9.jpg', './klatrevegg_moholy/DSC05023.JPG'], ['./klatrevegg_moholy/9.jpg', './klatrevegg_moholy/13.jpg'], ['./klatrevegg_moholy/9.jpg', './klatrevegg_moholy/11.jpg'], ['./klatrevegg_moholy/9.jpg', './klatrevegg_moholy/DSC05009.JPG'], ['./klatrevegg_moholy/9.jpg', './klatrevegg_moholy/DSC05021.JPG'], ['./klatrevegg_moholy/9.jpg', './klatrevegg_moholy/DSC05020.JPG'], ['./klatrevegg_moholy/9.jpg', './klatrevegg_moholy/DSC05008.JPG'], ['./klatrevegg_moholy/9.jpg', './klatrevegg_moholy/10.jpg'], ['./klatrevegg_moholy/9.jpg', './klatrevegg_moholy/21.jpg'], ['./klatrevegg_moholy/9.jpg', './klatrevegg_moholy/DSC05005.JPG'], ['./klatrevegg_moholy/9.jpg', './klatrevegg_moholy/DSC05011.JPG'], ['./klatrevegg_moholy/9.jpg', './klatrevegg_moholy/DSC05010.JPG'], ['./klatrevegg_moholy/9.jpg', './klatrevegg_moholy/20.jpg'], ['./klatrevegg_moholy/9.jpg', './klatrevegg_moholy/22.jpg'], ['./klatrevegg_moholy/9.jpg', './klatrevegg_moholy/DSC05012.JPG'], ['./klatrevegg_moholy/9.jpg', './klatrevegg_moholy/DSC05006.JPG'], ['./klatrevegg_moholy/9.jpg', './klatrevegg_moholy/DSC05007.JPG'], ['./klatrevegg_moholy/9.jpg', './klatrevegg_moholy/DSC05013.JPG'], ['./klatrevegg_moholy/9.jpg', './klatrevegg_moholy/DSC05017.JPG'], ['./klatrevegg_moholy/9.jpg', './klatrevegg_moholy/DSC05016.JPG'], ['./klatrevegg_moholy/9.jpg', './klatrevegg_moholy/18.jpg'], ['./klatrevegg_moholy/9.jpg', './klatrevegg_moholy/DSC05028.JPG'], ['./klatrevegg_moholy/9.jpg', './klatrevegg_moholy/DSC05014.JPG'], ['./klatrevegg_moholy/9.jpg', './klatrevegg_moholy/DSC05015.JPG'], ['./klatrevegg_moholy/9.jpg', './klatrevegg_moholy/DSC05029.JPG'], ['./klatrevegg_moholy/9.jpg', './klatrevegg_moholy/19.jpg'], ['./klatrevegg_moholy/9.jpg', './klatrevegg_moholy/4.jpg'], ['./klatrevegg_moholy/9.jpg', './klatrevegg_moholy/5.jpg'], ['./klatrevegg_moholy/9.jpg', './klatrevegg_moholy/7.jpg'], ['./klatrevegg_moholy/9.jpg', './klatrevegg_moholy/6.jpg'], ['./klatrevegg_moholy/9.jpg', './klatrevegg_moholy/2.jpg'], ['./klatrevegg_moholy/9.jpg', './klatrevegg_moholy/3.jpg'], ['./klatrevegg_moholy/9.jpg', './klatrevegg_moholy/1.jpg'], ['./moholt1/20211001_182814.jpg', './moholt1/20211001_182812.jpg'], ['./moholt1/20211001_182814.jpg', './moholt1/20211001_182811.jpg'], ['./moholt1/20211001_182814.jpg', './moholt1/20211001_182816.jpg'], ['./moholt1/20211001_182814.jpg', './moholt1/20211001_182818.jpg'], ['./moholt1/20211001_182814.jpg', './moholt1/20211001_182819.jpg'], ['./moholt1/20211001_182814.jpg', './moholt1/20211001_182821.jpg'], ['./dominos_moholt/20211001_182623.jpg', './dominos_moholt/20211001_182609.jpg'], ['./dominos_moholt/20211001_182623.jpg', './dominos_moholt/20211001_182621.jpg'], ['./dominos_moholt/20211001_182623.jpg', './dominos_moholt/20211001_182542.jpg'], ['./dominos_moholt/20211001_182623.jpg', './dominos_moholt/.DS_Store'], ['./dominos_moholt/20211001_182623.jpg', './dominos_moholt/20211001_182544.jpg'], ['./dominos_moholt/20211001_182623.jpg', './dominos_moholt/20211001_182626.jpg'], ['./dominos_moholt/20211001_182623.jpg', './dominos_moholt/20211001_182624.jpg'], ['./dominos_moholt/20211001_182623.jpg', './dominos_moholt/20211001_182618.jpg'], ['./dominos_moholt/20211001_182623.jpg', './dominos_moholt/20211001_182547.jpg'], ['./dominos_moholt/20211001_182623.jpg', './dominos_moholt/20211001_182619.jpg'], ['./dominos_moholt/20211001_182623.jpg', './dominos_moholt/20211001_182602.jpg'], ['./dominos_moholt/20211001_182623.jpg', './dominos_moholt/20211001_182606.jpg'], ['./dominos_moholt/20211001_182623.jpg', './dominos_moholt/20211001_182612.jpg']]\n"
     ]
    }
   ],
   "source": [
    "dicPic = get_folders_in_folder() \n",
    "preTrainingData = []\n",
    "counter = 0\n",
    "for building,pic in dicPic.items():\n",
    "    if counter == len(pic):\n",
    "        counter = 0\n",
    "\n",
    "    p1 = pic[counter]\n",
    "    for p2 in pic:\n",
    "        if p2 != p1:\n",
    "            trainingCase = []\n",
    "            trainingCase.append(building + \"/\" + p1)\n",
    "            trainingCase.append(building + \"/\" + p2)\n",
    "            preTrainingData.append(trainingCase)     \n",
    "    \n",
    "    counter += 1\n",
    "\n",
    "print(preTrainingData)\n"
   ]
  },
  {
   "cell_type": "code",
   "execution_count": 26,
   "metadata": {},
   "outputs": [],
   "source": [
    "PICTURESDIR = '/Users/lea/Documents/GitHub/photo-caching/training/pictures'\n",
    "CATEGORIES = ['dominos_moholt', 'kirke_fra_bro', 'klatrevegg_moholy', 'moholt1', 'Scandic', 'sykkelvei_eberg','samf','Trondheimsporten']\n",
    "training_data = []\n",
    "IMG_SIZE = 128\n",
    "\n",
    "def create_training_data():\n",
    "    for category in CATEGORIES:\n",
    "        path = os.path.join(PICTURESDIR, category)\n",
    "        class_num = CATEGORIES.index(category)\n",
    "        for img in os.listdir(path):\n",
    "            try:\n",
    "                img_array = cv2.imread(os.path.join(path, img), cv2.IMREAD_UNCHANGED)\n",
    "                new_array = cv2.resize(img_array, (IMG_SIZE, IMG_SIZE))\n",
    "                training_data.append([new_array, class_num])\n",
    "            except Exception as e:\n",
    "                pass\n",
    "\n",
    "create_training_data()\n"
   ]
  },
  {
   "cell_type": "code",
   "execution_count": 15,
   "metadata": {},
   "outputs": [
    {
     "name": "stdout",
     "output_type": "stream",
     "text": [
      "93\n"
     ]
    }
   ],
   "source": [
    "print(len(training_data))"
   ]
  },
  {
   "cell_type": "code",
   "execution_count": 16,
   "metadata": {},
   "outputs": [
    {
     "name": "stdout",
     "output_type": "stream",
     "text": [
      "5\n",
      "2\n",
      "2\n",
      "2\n",
      "2\n",
      "5\n",
      "5\n",
      "2\n",
      "0\n",
      "5\n"
     ]
    }
   ],
   "source": [
    "import random \n",
    "\n",
    "random.shuffle(training_data)\n",
    "\n",
    "for sample in training_data[:10]:\n",
    "    print(sample[1])"
   ]
  },
  {
   "cell_type": "code",
   "execution_count": 28,
   "metadata": {},
   "outputs": [],
   "source": [
    "import pickle\n",
    "\n",
    "pickle_out = open(\"X.pickle\", \"wb\")\n",
    "pickle.dump(X, pickle_out)\n",
    "pickle_out.close()\n",
    "\n",
    "pickle_out = open(\"y.pickle\", \"wb\")\n",
    "pickle.dump(y, pickle_out)\n",
    "pickle_out.close()\n",
    "\n",
    "pickle_in = open(\"X.pickle\", \"rb\")\n",
    "X = pickle.load(pickle_in)"
   ]
  }
 ],
 "metadata": {
  "kernelspec": {
   "display_name": "Python 3",
   "name": "python3",
   "language": "python"
  },
  "language_info": {
   "codemirror_mode": {
    "name": "ipython",
    "version": 3
   },
   "file_extension": ".py",
   "mimetype": "text/x-python",
   "name": "python",
   "nbconvert_exporter": "python",
   "pygments_lexer": "ipython3",
   "version": "3.7.9-final"
  },
  "orig_nbformat": 2
 },
 "nbformat": 4,
 "nbformat_minor": 2
}