{
 "cells": [
  {
   "cell_type": "code",
   "execution_count": 1,
   "metadata": {},
   "outputs": [],
   "source": [
    "import numpy as np\n",
    "import matplotlib.pyplot as plt\n",
    "import os\n",
    "import cv2\n",
    "import imghdr\n",
    "import random"
   ]
  },
  {
   "cell_type": "code",
   "execution_count": 4,
   "metadata": {},
   "outputs": [
    {
     "name": "stdout",
     "output_type": "stream",
     "text": [
      "{'.\\\\pictures\\\\Hovedbygget': ['IMG_7623.HEIC', 'IMG_7624.HEIC', 'IMG_7625.HEIC', 'IMG_7626.HEIC', 'IMG_7627.HEIC', 'IMG_7628.HEIC', 'IMG_7629.HEIC', 'IMG_7632.HEIC', 'IMG_7636.HEIC', 'IMG_7637.HEIC', 'IMG_7638.HEIC', 'IMG_7639.HEIC', 'IMG_7640.HEIC', 'IMG_7641.HEIC', 'IMG_7642.HEIC', 'IMG_7643.HEIC', 'IMG_7644.HEIC', 'IMG_7645.HEIC', 'IMG_7646.HEIC', 'IMG_7647.HEIC', 'IMG_7648.HEIC', 'IMG_7649.HEIC', 'IMG_7650.HEIC', 'IMG_7651.HEIC', 'IMG_7652.HEIC', 'IMG_7653.HEIC', 'IMG_7654.HEIC', 'IMG_7655.HEIC', 'IMG_7656.HEIC', 'IMG_7657.HEIC', 'IMG_7658.HEIC', 'IMG_7659.HEIC', 'IMG_7660.HEIC', 'IMG_7661.HEIC', 'IMG_7662.HEIC', 'IMG_7663.HEIC', 'IMG_7664.HEIC', 'IMG_7665.HEIC', 'IMG_7666.HEIC', 'IMG_7667.HEIC', 'IMG_7668.HEIC', 'IMG_7670.HEIC', 'IMG_7671.HEIC', 'IMG_7672.HEIC', 'IMG_7673.HEIC', 'IMG_7674.HEIC', 'IMG_7675.HEIC', 'IMG_7676.HEIC', 'IMG_7677.HEIC', 'IMG_7678.HEIC', 'IMG_7679.HEIC', 'IMG_7680.HEIC', 'IMG_7681.HEIC', 'IMG_7682.HEIC', 'IMG_7683.HEIC', 'IMG_7684.HEIC'], '.\\\\pictures\\\\klatrevegg_moholy': ['1.jpg', '10.jpg', '11.jpg', '12.jpg', '13.jpg', '14.jpg', '15.jpg', '16.jpg', '17.jpg', '18.jpg', '19.jpg', '2.jpg', '20.jpg', '21.jpg', '22.jpg', '3.jpg', '4.jpg', '5.jpg', '6.jpg', '7.jpg', '8.jpg', '9.jpg', 'DSC05005.JPG', 'DSC05006.JPG', 'DSC05007.JPG', 'DSC05008.JPG', 'DSC05009.JPG', 'DSC05010.JPG', 'DSC05011.JPG', 'DSC05012.JPG', 'DSC05013.JPG', 'DSC05014.JPG', 'DSC05015.JPG', 'DSC05016.JPG', 'DSC05017.JPG', 'DSC05018.JPG', 'DSC05019.JPG', 'DSC05020.JPG', 'DSC05021.JPG', 'DSC05022.JPG', 'DSC05023.JPG', 'DSC05024.JPG', 'DSC05025.JPG', 'DSC05026.JPG', 'DSC05027.JPG', 'DSC05028.JPG', 'DSC05029.JPG'], '.\\\\pictures\\\\moholt1': ['20211001_182811.jpg', '20211001_182812.jpg', '20211001_182814.jpg', '20211001_182816.jpg', '20211001_182818.jpg', '20211001_182819.jpg', '20211001_182821.jpg'], '.\\\\pictures\\\\omega_tog': ['IMG_4541.HEIC', 'IMG_4542.HEIC', 'IMG_4543.HEIC', 'IMG_4544.HEIC', 'IMG_4545.HEIC', 'IMG_4546.HEIC', 'IMG_4547.HEIC', 'IMG_4548.HEIC', 'IMG_4572.HEIC', 'IMG_4573.HEIC', 'IMG_4574.HEIC', 'IMG_4575.HEIC'], '.\\\\pictures\\\\samf': ['IMG_4535.HEIC', 'IMG_4536.HEIC', 'IMG_4537.HEIC', 'IMG_4538.HEIC', 'IMG_4539.HEIC', 'IMG_4540.HEIC', 'IMG_4549.HEIC', 'IMG_4550.HEIC', 'IMG_4562.HEIC', 'IMG_4563.HEIC', 'IMG_4569.HEIC', 'IMG_4570.HEIC', 'IMG_4571.HEIC'], '.\\\\pictures\\\\Scandic': ['IMG_0120.HEIC', 'IMG_0121.HEIC', 'IMG_0122.HEIC', 'IMG_0123.HEIC', 'IMG_0124.HEIC', 'IMG_0125.HEIC', 'IMG_0126.HEIC', 'IMG_0127.HEIC', 'IMG_0128.HEIC', 'IMG_0129.HEIC', 'IMG_0130.HEIC', 'IMG_0131.HEIC', 'IMG_0132.HEIC', 'IMG_0133.HEIC', 'IMG_0134.HEIC', 'IMG_0135.HEIC', 'IMG_0136.HEIC', 'IMG_0137.HEIC', 'IMG_0138.HEIC', 'IMG_0139.HEIC', 'IMG_0140.HEIC', 'IMG_0141.HEIC', 'IMG_0142.HEIC'], '.\\\\pictures\\\\sykkelvei_eberg': ['1.jpg', '10.jpg', '11.jpg', '12.jpg', '13.jpg', '14.jpg', '15.jpg', '16.jpg', '2.jpg', '3.jpg', '4.jpg', '5.jpg', '6.jpg', '7.jpg', '8.jpg', '9.jpg', 'DSC05030.JPG', 'DSC05031.JPG', 'DSC05032.JPG', 'DSC05033.JPG', 'DSC05034.JPG', 'DSC05035.JPG', 'DSC05036.JPG', 'DSC05037.JPG', 'DSC05038.JPG', 'DSC05039.JPG', 'DSC05040.JPG'], '.\\\\pictures\\\\Trondheimsporten': ['IMG_1186.HEIC', 'IMG_1187.HEIC', 'IMG_1188.HEIC', 'IMG_1189.HEIC', 'IMG_1190.HEIC', 'IMG_1191.HEIC', 'IMG_1192.HEIC', 'IMG_1193.HEIC', 'IMG_1194.HEIC', 'IMG_1195.HEIC', 'IMG_1196.HEIC', 'IMG_1197.HEIC', 'IMG_1198.HEIC', 'IMG_1199.HEIC', 'IMG_1200.HEIC', 'IMG_1201.HEIC', 'IMG_1202.HEIC', 'IMG_1203.HEIC', 'IMG_1204.HEIC', 'IMG_1205.HEIC', 'IMG_1213.HEIC', 'IMG_1214.HEIC', 'IMG_1215.HEIC', 'IMG_1216.HEIC', 'IMG_1217.HEIC', 'IMG_1218.HEIC', 'IMG_1219.HEIC', 'IMG_1220.HEIC', 'IMG_1221.HEIC', 'IMG_1222.HEIC', 'IMG_1223.HEIC', 'IMG_1224.HEIC', 'IMG_1225.HEIC', 'IMG_1226.HEIC', 'IMG_1227.HEIC', 'IMG_1228.HEIC', 'IMG_1229.HEIC', 'IMG_1230.HEIC', 'IMG_1231.HEIC', 'IMG_1232.HEIC', 'IMG_1233.HEIC', 'IMG_1236.HEIC', 'IMG_1237.HEIC', 'IMG_1238.HEIC', 'IMG_1239.HEIC', 'IMG_1240.HEIC', 'IMG_1241.HEIC', 'IMG_1242.HEIC', 'IMG_1243.HEIC', 'IMG_1244.HEIC', 'IMG_1245.HEIC', 'IMG_1246.HEIC', 'IMG_1247.HEIC', 'IMG_1248.HEIC', 'IMG_1249.HEIC', 'IMG_1250.HEIC', 'IMG_1251.HEIC', 'IMG_1252.HEIC', 'IMG_1253.HEIC', 'IMG_1255.HEIC', 'IMG_1256.HEIC', 'IMG_1257.HEIC', 'IMG_1258.HEIC']}\n"
     ]
    }
   ],
   "source": [
    "def WINDOWS_get_folders_in_folder():\n",
    "    rootDir = '.'\n",
    "    folder_with_files = {}\n",
    "\n",
    "    for dir_name, subdir_list, file_list in os.walk(rootDir):\n",
    "        #print(dir_name)\n",
    "        if(file_list != [] and (imghdr.what(dir_name +\"\\\\\" +file_list[0]) != None) or \"HEIC\" in file_list[0]): #må muligens endres til / på andre datamaskiner\n",
    "            folder_with_files[dir_name] = file_list \n",
    "        #print(file_list)\n",
    "    \n",
    "    #for i in folder_with_files:     #se om riktig\n",
    "        #print (i)#, \"\\n\", a[i])\n",
    "    return folder_with_files\n",
    "print(WINDOWS_get_folders_in_folder())\n"
   ]
  },
  {
   "cell_type": "code",
   "execution_count": 12,
   "metadata": {},
   "outputs": [
    {
     "name": "stdout",
     "output_type": "stream",
     "text": [
      "{'./pictures/Hovedbygget': ['IMG_7628.HEIC', 'IMG_7645.HEIC', 'IMG_7653.HEIC', 'IMG_7624.HEIC', 'IMG_7673.HEIC', 'IMG_7665.HEIC', 'IMG_7632.HEIC', 'IMG_7649.HEIC', 'IMG_7648.HEIC', 'IMG_7664.HEIC', 'IMG_7672.HEIC', 'IMG_7625.HEIC', 'IMG_7652.HEIC', 'IMG_7644.HEIC', 'IMG_7668.HEIC', 'IMG_7629.HEIC', 'IMG_7675.HEIC', 'IMG_7663.HEIC', 'IMG_7659.HEIC', 'IMG_7679.HEIC', 'IMG_7680.HEIC', 'IMG_7638.HEIC', 'IMG_7643.HEIC', 'IMG_7655.HEIC', 'IMG_7654.HEIC', 'IMG_7642.HEIC', 'IMG_7639.HEIC', 'IMG_7681.HEIC', 'IMG_7678.HEIC', 'IMG_7658.HEIC', 'IMG_7662.HEIC', 'IMG_7674.HEIC', 'IMG_7623.HEIC', 'IMG_7636.HEIC', 'IMG_7661.HEIC', 'IMG_7677.HEIC', 'IMG_7657.HEIC', 'IMG_7641.HEIC', 'IMG_7682.HEIC', 'IMG_7683.HEIC', 'IMG_7640.HEIC', 'IMG_7656.HEIC', 'IMG_7676.HEIC', 'IMG_7660.HEIC', 'IMG_7637.HEIC', 'IMG_7651.HEIC', 'IMG_7647.HEIC', 'IMG_7684.HEIC', 'IMG_7667.HEIC', 'IMG_7671.HEIC', 'IMG_7626.HEIC', 'IMG_7627.HEIC', 'IMG_7670.HEIC', 'IMG_7666.HEIC', 'IMG_7646.HEIC', 'IMG_7650.HEIC'], './pictures/sykkelvei_eberg': ['DSC05040.JPG', '8.jpg', '9.jpg', '14.jpg', 'DSC05030.JPG', 'DSC05031.JPG', '15.jpg', 'DSC05033.JPG', 'DSC05032.JPG', '16.jpg', '12.jpg', 'DSC05036.JPG', 'DSC05037.JPG', '13.jpg', '11.jpg', 'DSC05035.JPG', 'DSC05034.JPG', '10.jpg', 'DSC05039.JPG', 'DSC05038.JPG', '4.jpg', '5.jpg', '7.jpg', '6.jpg', '2.jpg', '3.jpg', '1.jpg'], './pictures/omega_tog': ['IMG_4546.HEIC', 'IMG_4547.HEIC', 'IMG_4541.HEIC', 'IMG_4574.HEIC', 'IMG_4542.HEIC', 'IMG_4543.HEIC', 'IMG_4575.HEIC', 'IMG_4544.HEIC', 'IMG_4572.HEIC', 'IMG_4548.HEIC', 'IMG_4573.HEIC', 'IMG_4545.HEIC'], './pictures/samf': ['IMG_4550.HEIC', 'IMG_4570.HEIC', 'IMG_4571.HEIC', 'IMG_4537.HEIC', 'IMG_4540.HEIC', 'IMG_4536.HEIC', 'IMG_4562.HEIC', 'IMG_4535.HEIC', 'IMG_4539.HEIC', 'IMG_4538.HEIC', 'IMG_4563.HEIC', 'IMG_4549.HEIC', 'IMG_4569.HEIC'], './pictures/klatrevegg_moholy': ['8.jpg', '9.jpg', '14.jpg', 'DSC05024.JPG', 'DSC05018.JPG', 'DSC05019.JPG', 'DSC05025.JPG', '15.jpg', '17.jpg', 'DSC05027.JPG', 'DSC05026.JPG', '16.jpg', '12.jpg', 'DSC05022.JPG', 'DSC05023.JPG', '13.jpg', '11.jpg', 'DSC05009.JPG', 'DSC05021.JPG', 'DSC05020.JPG', 'DSC05008.JPG', '10.jpg', '21.jpg', 'DSC05005.JPG', 'DSC05011.JPG', 'DSC05010.JPG', '20.jpg', '22.jpg', 'DSC05012.JPG', 'DSC05006.JPG', 'DSC05007.JPG', 'DSC05013.JPG', 'DSC05017.JPG', 'DSC05016.JPG', '18.jpg', 'DSC05028.JPG', 'DSC05014.JPG', 'DSC05015.JPG', 'DSC05029.JPG', '19.jpg', '4.jpg', '5.jpg', '7.jpg', '6.jpg', '2.jpg', '3.jpg', '1.jpg'], './pictures/kirke_fra_bro': ['IMG_4566.HEIC', 'IMG_4567.HEIC', '.DS_Store', 'IMG_4551.HEIC', 'IMG_4560.HEIC', 'IMG_4556.HEIC', 'IMG_4557.HEIC', 'IMG_4561.HEIC', 'IMG_4558.HEIC', 'IMG_4554.HEIC', 'IMG_4555.HEIC', 'IMG_4559.HEIC', 'IMG_4568.HEIC', 'IMG_4552.HEIC', 'IMG_4565.HEIC', 'IMG_4553.HEIC'], './pictures/moholt1': ['20211001_182812.jpg', '20211001_182811.jpg', '20211001_182814.jpg', '20211001_182816.jpg', '20211001_182818.jpg', '20211001_182819.jpg', '20211001_182821.jpg'], './pictures/dominos_moholt': ['20211001_182609.jpg', '20211001_182621.jpg', '20211001_182542.jpg', '20211001_182623.jpg', '.DS_Store', '20211001_182544.jpg', '20211001_182626.jpg', '20211001_182624.jpg', '20211001_182618.jpg', '20211001_182547.jpg', '20211001_182619.jpg', '20211001_182602.jpg', '20211001_182606.jpg', '20211001_182612.jpg'], './pictures/Trondheimsporten': ['IMG_1251.HEIC', 'IMG_1197.HEIC', 'IMG_1247.HEIC', 'IMG_1230.HEIC', 'IMG_1226.HEIC', 'IMG_1227.HEIC', 'IMG_1231.HEIC', 'IMG_1246.HEIC', 'IMG_1196.HEIC', 'IMG_1250.HEIC', 'IMG_1236.HEIC', 'IMG_1220.HEIC', 'IMG_1200.HEIC', 'IMG_1257.HEIC', 'IMG_1191.HEIC', 'IMG_1241.HEIC', 'IMG_1187.HEIC', 'IMG_1216.HEIC', 'IMG_1217.HEIC', 'IMG_1186.HEIC', 'IMG_1240.HEIC', 'IMG_1190.HEIC', 'IMG_1256.HEIC', 'IMG_1201.HEIC', 'IMG_1221.HEIC', 'IMG_1237.HEIC', 'IMG_1222.HEIC', 'IMG_1218.HEIC', 'IMG_1189.HEIC', 'IMG_1238.HEIC', 'IMG_1214.HEIC', 'IMG_1243.HEIC', 'IMG_1193.HEIC', 'IMG_1255.HEIC', 'IMG_1202.HEIC', 'IMG_1203.HEIC', 'IMG_1192.HEIC', 'IMG_1242.HEIC', 'IMG_1215.HEIC', 'IMG_1239.HEIC', 'IMG_1258.HEIC', 'IMG_1188.HEIC', 'IMG_1219.HEIC', 'IMG_1223.HEIC', 'IMG_1228.HEIC', 'IMG_1245.HEIC', 'IMG_1195.HEIC', 'IMG_1253.HEIC', 'IMG_1204.HEIC', 'IMG_1224.HEIC', 'IMG_1232.HEIC', 'IMG_1249.HEIC', 'IMG_1199.HEIC', 'IMG_1198.HEIC', 'IMG_1248.HEIC', 'IMG_1233.HEIC', 'IMG_1225.HEIC', 'IMG_1205.HEIC', 'IMG_1252.HEIC', 'IMG_1194.HEIC', 'IMG_1244.HEIC', 'IMG_1213.HEIC', 'IMG_1229.HEIC'], './pictures/Scandic': ['IMG_0138.HEIC', 'IMG_0134.HEIC', 'IMG_0122.HEIC', 'IMG_0123.HEIC', 'IMG_0135.HEIC', 'IMG_0139.HEIC', 'IMG_0142.HEIC', 'IMG_0132.HEIC', 'IMG_0124.HEIC', 'IMG_0128.HEIC', 'IMG_0129.HEIC', 'IMG_0125.HEIC', 'IMG_0133.HEIC', 'IMG_0126.HEIC', 'IMG_0130.HEIC', 'IMG_0131.HEIC', 'IMG_0127.HEIC', 'IMG_0141.HEIC', 'IMG_0120.HEIC', 'IMG_0136.HEIC', 'IMG_0137.HEIC', 'IMG_0121.HEIC', 'IMG_0140.HEIC']}\n"
     ]
    }
   ],
   "source": [
    "def MAC_get_folders_in_folder():\n",
    "    rootDir = '.'\n",
    "    folder_with_files = {}\n",
    "\n",
    "    for dir_name, subdir_list, file_list in os.walk(rootDir):\n",
    "        #print(dir_name)\n",
    "        if(file_list != [] and ((imghdr.what(dir_name + \"/\" +file_list[0]) != None) or \"HEIC\" in file_list[0])): #må muligens endres til / på andre datamaskiner\n",
    "            folder_with_files[dir_name] = file_list \n",
    "        #print(file_list)\n",
    "    \n",
    "    #for i in folder_with_files:     #se om riktig\n",
    "        #print (i)#, \"\\n\", a[i])\n",
    "    return folder_with_files\n",
    "print(MAC_get_folders_in_folder())\n"
   ]
  },
  {
   "cell_type": "code",
   "execution_count": 38,
   "metadata": {},
   "outputs": [
    {
     "name": "stdout",
     "output_type": "stream",
     "text": [
      "./pictures/samf/IMG_4536.HEIC\n"
     ]
    }
   ],
   "source": [
    "def hjelpeFunksjon(whatKeyWeAreOn):\n",
    "    p_neg = ''\n",
    "    listOfBuildings = []\n",
    "    print(list)\n",
    "    for key in dicPic.keys():\n",
    "        if list(dicPic.keys())[whatKeyWeAreOn] != key: \n",
    "            listOfBuildings.append(key)\n",
    "    \n",
    "    indexForBuilding = random.randint(0,len(listOfBuildings)-1)\n",
    "    key = listOfBuildings[indexForBuilding]\n",
    "    listOfPic = dicPic.get(key)\n",
    "    indexForPic = random.randint(0,len(listOfPic)-1)\n",
    "    \n",
    "    return key+ '/' + listOfPic[indexForPic]\n",
    "    \n",
    "\n",
    "print(hjelpeFunksjon(0))"
   ]
  },
  {
   "cell_type": "code",
   "execution_count": 19,
   "metadata": {
    "tags": []
   },
   "outputs": [],
   "source": [
    "def createTrainingData():\n",
    "    noneNum = 0\n",
    "    dicPic = MAC_get_folders_in_folder() #This has to be changed if using windows\n",
    "    trainingData = []\n",
    "    whatKeyWeAreOn = -1\n",
    "    keyList = list(dicPic.keys())\n",
    "    counter_steps = 0 \n",
    "    print('steg0')\n",
    "    for picOfBuildings in dicPic.values():\n",
    "        whatKeyWeAreOn += 1\n",
    "\n",
    "        print('steg1')\n",
    "        index = 0\n",
    "        while(index < len(picOfBuildings)): \n",
    "            p_base = picOfBuildings[index]\n",
    "            for p_compare in picOfBuildings:\n",
    "                if p_compare != p_base:\n",
    "                    trainingCase = []\n",
    "                    print('steg2')\n",
    "                    \n",
    "                    listOfBuildings = []\n",
    "                    for key in dicPic.keys():\n",
    "                        if list(dicPic.keys())[whatKeyWeAreOn] != key: \n",
    "                            listOfBuildings.append(key)\n",
    "                    \n",
    "                    indexForBuilding = random.randint(0,len(listOfBuildings)-1)\n",
    "                    key = listOfBuildings[indexForBuilding]\n",
    "                    listOfPic = dicPic.get(key)\n",
    "                    indexForPic = random.randint(0,len(listOfPic)-1)\n",
    "                    \n",
    "                    p_neg = key+ '/' + listOfPic[indexForPic]\n",
    "\n",
    "                    \n",
    "                    trainingCase.append(\n",
    "                        convertPreTrainingDataToActualPictures(keyList[whatKeyWeAreOn] + \"/\" + p_base, noneNum))\n",
    "                    trainingCase.append(\n",
    "                        convertPreTrainingDataToActualPictures(keyList[whatKeyWeAreOn] + \"/\" + p_compare, noneNum))\n",
    "                    trainingCase.append(\n",
    "                        convertPreTrainingDataToActualPictures(p_neg, noneNum))\n",
    "                        \n",
    "                    trainingData.append(trainingCase) \n",
    "                    counter_steps += 1\n",
    "                    print(counter_steps)\n",
    "\n",
    "            index += 1 \n",
    "\n",
    "    return trainingData"
   ]
  },
  {
   "cell_type": "code",
   "execution_count": 20,
   "metadata": {},
   "outputs": [],
   "source": [
    "def convertPreTrainingDataToActualPictures(fileName, noneNum):\n",
    "    IMG_SIZE = 128\n",
    "    img_array = cv2.imread(fileName, cv2.IMREAD_UNCHANGED)\n",
    "    try: \n",
    "        downSized_array = cv2.resize(img_array, (IMG_SIZE, IMG_SIZE))\n",
    "    except: \n",
    "        noneNum += 1\n",
    "        downSized_array= []\n",
    "        \n",
    "   \n",
    "    #if(len(img_array) != 3): \n",
    "    #    downSized_array = cv2.resize(img_array, (IMG_SIZE, IMG_SIZE))\n",
    "    #else:\n",
    "    #    noneNum += 1\n",
    "    #    downSized_array= []\n",
    "    \n",
    "    return downSized_array"
   ]
  },
  {
   "cell_type": "code",
   "execution_count": 24,
   "metadata": {},
   "outputs": [
    {
     "ename": "KeyboardInterrupt",
     "evalue": "",
     "output_type": "error",
     "traceback": [
      "\u001b[0;31m---------------------------------------------------------------------------\u001b[0m",
      "\u001b[0;31mKeyboardInterrupt\u001b[0m                         Traceback (most recent call last)",
      "\u001b[0;32m/var/folders/ln/psx1xlb54d58wpx85ns5z98h0000gn/T/ipykernel_2870/3420685652.py\u001b[0m in \u001b[0;36m<module>\u001b[0;34m\u001b[0m\n\u001b[0;32m----> 1\u001b[0;31m \u001b[0mtrainingData\u001b[0m \u001b[0;34m=\u001b[0m \u001b[0mcreateTrainingData\u001b[0m\u001b[0;34m(\u001b[0m\u001b[0;34m)\u001b[0m\u001b[0;34m\u001b[0m\u001b[0;34m\u001b[0m\u001b[0m\n\u001b[0m\u001b[1;32m      2\u001b[0m \u001b[0mprint\u001b[0m\u001b[0;34m(\u001b[0m\u001b[0mtrainingData\u001b[0m\u001b[0;34m[\u001b[0m\u001b[0;36m0\u001b[0m\u001b[0;34m]\u001b[0m\u001b[0;34m[\u001b[0m\u001b[0;36m0\u001b[0m\u001b[0;34m]\u001b[0m\u001b[0;34m)\u001b[0m\u001b[0;34m\u001b[0m\u001b[0;34m\u001b[0m\u001b[0m\n\u001b[1;32m      3\u001b[0m \u001b[0mprint\u001b[0m\u001b[0;34m(\u001b[0m\u001b[0mlen\u001b[0m\u001b[0;34m(\u001b[0m\u001b[0mtrainingData\u001b[0m\u001b[0;34m)\u001b[0m\u001b[0;34m)\u001b[0m\u001b[0;34m\u001b[0m\u001b[0;34m\u001b[0m\u001b[0m\n",
      "\u001b[0;32m/var/folders/ln/psx1xlb54d58wpx85ns5z98h0000gn/T/ipykernel_2870/3843467920.py\u001b[0m in \u001b[0;36mcreateTrainingData\u001b[0;34m()\u001b[0m\n\u001b[1;32m     36\u001b[0m                         convertPreTrainingDataToActualPictures(keyList[whatKeyWeAreOn] + \"/\" + p_compare, noneNum))\n\u001b[1;32m     37\u001b[0m                     trainingCase.append(\n\u001b[0;32m---> 38\u001b[0;31m                         convertPreTrainingDataToActualPictures(p_neg, noneNum))\n\u001b[0m\u001b[1;32m     39\u001b[0m \u001b[0;34m\u001b[0m\u001b[0m\n\u001b[1;32m     40\u001b[0m                     \u001b[0mtrainingData\u001b[0m\u001b[0;34m.\u001b[0m\u001b[0mappend\u001b[0m\u001b[0;34m(\u001b[0m\u001b[0mtrainingCase\u001b[0m\u001b[0;34m)\u001b[0m\u001b[0;34m\u001b[0m\u001b[0;34m\u001b[0m\u001b[0m\n",
      "\u001b[0;32m/var/folders/ln/psx1xlb54d58wpx85ns5z98h0000gn/T/ipykernel_2870/3899047396.py\u001b[0m in \u001b[0;36mconvertPreTrainingDataToActualPictures\u001b[0;34m(fileName, noneNum)\u001b[0m\n\u001b[1;32m      1\u001b[0m \u001b[0;32mdef\u001b[0m \u001b[0mconvertPreTrainingDataToActualPictures\u001b[0m\u001b[0;34m(\u001b[0m\u001b[0mfileName\u001b[0m\u001b[0;34m,\u001b[0m \u001b[0mnoneNum\u001b[0m\u001b[0;34m)\u001b[0m\u001b[0;34m:\u001b[0m\u001b[0;34m\u001b[0m\u001b[0;34m\u001b[0m\u001b[0m\n\u001b[1;32m      2\u001b[0m     \u001b[0mIMG_SIZE\u001b[0m \u001b[0;34m=\u001b[0m \u001b[0;36m128\u001b[0m\u001b[0;34m\u001b[0m\u001b[0;34m\u001b[0m\u001b[0m\n\u001b[0;32m----> 3\u001b[0;31m     \u001b[0mimg_array\u001b[0m \u001b[0;34m=\u001b[0m \u001b[0mcv2\u001b[0m\u001b[0;34m.\u001b[0m\u001b[0mimread\u001b[0m\u001b[0;34m(\u001b[0m\u001b[0mfileName\u001b[0m\u001b[0;34m,\u001b[0m \u001b[0mcv2\u001b[0m\u001b[0;34m.\u001b[0m\u001b[0mIMREAD_UNCHANGED\u001b[0m\u001b[0;34m)\u001b[0m\u001b[0;34m\u001b[0m\u001b[0;34m\u001b[0m\u001b[0m\n\u001b[0m\u001b[1;32m      4\u001b[0m     \u001b[0;32mtry\u001b[0m\u001b[0;34m:\u001b[0m\u001b[0;34m\u001b[0m\u001b[0;34m\u001b[0m\u001b[0m\n\u001b[1;32m      5\u001b[0m         \u001b[0mdownSized_array\u001b[0m \u001b[0;34m=\u001b[0m \u001b[0mcv2\u001b[0m\u001b[0;34m.\u001b[0m\u001b[0mresize\u001b[0m\u001b[0;34m(\u001b[0m\u001b[0mimg_array\u001b[0m\u001b[0;34m,\u001b[0m \u001b[0;34m(\u001b[0m\u001b[0mIMG_SIZE\u001b[0m\u001b[0;34m,\u001b[0m \u001b[0mIMG_SIZE\u001b[0m\u001b[0;34m)\u001b[0m\u001b[0;34m)\u001b[0m\u001b[0;34m\u001b[0m\u001b[0;34m\u001b[0m\u001b[0m\n",
      "\u001b[0;31mKeyboardInterrupt\u001b[0m: "
     ]
    }
   ],
   "source": [
    "trainingData = createTrainingData()\n",
    "print(trainingData[0][0])\n",
    "print(len(trainingData))"
   ]
  },
  {
   "cell_type": "code",
   "execution_count": 28,
   "metadata": {},
   "outputs": [],
   "source": [
    "import pickle\n",
    "print(trainingData)\n",
    "\n",
    "pickle_out = open(\"dataset.pickle\", \"wb\")\n",
    "pickle.dump(trainingData, pickle_out)\n",
    "pickle_out.close()\n",
    "\n",
    "pickle_in = open(\"dataset.pickle\", \"rb\")\n",
    "X = pickle.load(pickle_in)"
   ]
  }
 ],
 "metadata": {
  "interpreter": {
   "hash": "31f2aee4e71d21fbe5cf8b01ff0e069b9275f58929596ceb00d14d90e3e16cd6"
  },
  "kernelspec": {
   "display_name": "Python 3.8.9 64-bit",
   "name": "python3"
  },
  "language_info": {
   "codemirror_mode": {
    "name": "ipython",
    "version": 3
   },
   "file_extension": ".py",
   "mimetype": "text/x-python",
   "name": "python",
   "nbconvert_exporter": "python",
   "pygments_lexer": "ipython3",
   "version": "3.8.9"
  },
  "orig_nbformat": 2
 },
 "nbformat": 4,
 "nbformat_minor": 2
}
