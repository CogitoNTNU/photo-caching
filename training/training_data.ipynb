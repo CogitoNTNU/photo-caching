{
 "cells": [
  {
   "cell_type": "code",
   "execution_count": 1,
   "metadata": {},
   "outputs": [],
   "source": [
    "import numpy as np\n",
    "#import matplotlib.pyplot as plt\n",
    "import os\n",
    "#import cv2\n",
    "import imghdr"
   ]
  },
  {
   "cell_type": "code",
   "execution_count": 2,
   "metadata": {},
   "outputs": [
    {
     "output_type": "stream",
     "name": "stdout",
     "text": [
      "{'./pictures/Hovedbygget': ['IMG_7628.HEIC', 'IMG_7645.HEIC', 'IMG_7653.HEIC', 'IMG_7624.HEIC', 'IMG_7673.HEIC', 'IMG_7665.HEIC', 'IMG_7632.HEIC', 'IMG_7649.HEIC', 'IMG_7648.HEIC', 'IMG_7664.HEIC', 'IMG_7672.HEIC', 'IMG_7625.HEIC', 'IMG_7652.HEIC', 'IMG_7644.HEIC', 'IMG_7668.HEIC', 'IMG_7629.HEIC', 'IMG_7675.HEIC', 'IMG_7663.HEIC', 'IMG_7659.HEIC', 'IMG_7679.HEIC', 'IMG_7680.HEIC', 'IMG_7638.HEIC', 'IMG_7643.HEIC', 'IMG_7655.HEIC', 'IMG_7654.HEIC', 'IMG_7642.HEIC', 'IMG_7639.HEIC', 'IMG_7681.HEIC', 'IMG_7678.HEIC', 'IMG_7658.HEIC', 'IMG_7662.HEIC', 'IMG_7674.HEIC', 'IMG_7623.HEIC', 'IMG_7636.HEIC', 'IMG_7661.HEIC', 'IMG_7677.HEIC', 'IMG_7657.HEIC', 'IMG_7641.HEIC', 'IMG_7682.HEIC', 'IMG_7683.HEIC', 'IMG_7640.HEIC', 'IMG_7656.HEIC', 'IMG_7676.HEIC', 'IMG_7660.HEIC', 'IMG_7637.HEIC', 'IMG_7651.HEIC', 'IMG_7647.HEIC', 'IMG_7684.HEIC', 'IMG_7667.HEIC', 'IMG_7671.HEIC', 'IMG_7626.HEIC', 'IMG_7627.HEIC', 'IMG_7670.HEIC', 'IMG_7666.HEIC', 'IMG_7646.HEIC', 'IMG_7650.HEIC'], './pictures/sykkelvei_eberg': ['DSC05040.JPG', '8.jpg', '9.jpg', '14.jpg', 'DSC05030.JPG', 'DSC05031.JPG', '15.jpg', 'DSC05033.JPG', 'DSC05032.JPG', '16.jpg', '12.jpg', 'DSC05036.JPG', 'DSC05037.JPG', '13.jpg', '11.jpg', 'DSC05035.JPG', 'DSC05034.JPG', '10.jpg', 'DSC05039.JPG', 'DSC05038.JPG', '4.jpg', '5.jpg', '7.jpg', '6.jpg', '2.jpg', '3.jpg', '1.jpg'], './pictures/omega_tog': ['IMG_4546.HEIC', 'IMG_4547.HEIC', 'IMG_4541.HEIC', 'IMG_4574.HEIC', 'IMG_4542.HEIC', 'IMG_4543.HEIC', 'IMG_4575.HEIC', 'IMG_4544.HEIC', 'IMG_4572.HEIC', 'IMG_4548.HEIC', 'IMG_4573.HEIC', 'IMG_4545.HEIC'], './pictures/samf': ['IMG_4550.HEIC', 'IMG_4570.HEIC', 'IMG_4571.HEIC', 'IMG_4537.HEIC', 'IMG_4540.HEIC', 'IMG_4536.HEIC', 'IMG_4562.HEIC', 'IMG_4535.HEIC', 'IMG_4539.HEIC', 'IMG_4538.HEIC', 'IMG_4563.HEIC', 'IMG_4549.HEIC', 'IMG_4569.HEIC'], './pictures/klatrevegg_moholy': ['8.jpg', '9.jpg', '14.jpg', 'DSC05024.JPG', 'DSC05018.JPG', 'DSC05019.JPG', 'DSC05025.JPG', '15.jpg', '17.jpg', 'DSC05027.JPG', 'DSC05026.JPG', '16.jpg', '12.jpg', 'DSC05022.JPG', 'DSC05023.JPG', '13.jpg', '11.jpg', 'DSC05009.JPG', 'DSC05021.JPG', 'DSC05020.JPG', 'DSC05008.JPG', '10.jpg', '21.jpg', 'DSC05005.JPG', 'DSC05011.JPG', 'DSC05010.JPG', '20.jpg', '22.jpg', 'DSC05012.JPG', 'DSC05006.JPG', 'DSC05007.JPG', 'DSC05013.JPG', 'DSC05017.JPG', 'DSC05016.JPG', '18.jpg', 'DSC05028.JPG', 'DSC05014.JPG', 'DSC05015.JPG', 'DSC05029.JPG', '19.jpg', '4.jpg', '5.jpg', '7.jpg', '6.jpg', '2.jpg', '3.jpg', '1.jpg'], './pictures/kirke_fra_bro': ['IMG_4566.HEIC', 'IMG_4567.HEIC', '.DS_Store', 'IMG_4551.HEIC', 'IMG_4560.HEIC', 'IMG_4556.HEIC', 'IMG_4557.HEIC', 'IMG_4561.HEIC', 'IMG_4558.HEIC', 'IMG_4554.HEIC', 'IMG_4555.HEIC', 'IMG_4559.HEIC', 'IMG_4568.HEIC', 'IMG_4552.HEIC', 'IMG_4565.HEIC', 'IMG_4553.HEIC'], './pictures/moholt1': ['20211001_182812.jpg', '20211001_182811.jpg', '20211001_182814.jpg', '20211001_182816.jpg', '20211001_182818.jpg', '20211001_182819.jpg', '20211001_182821.jpg'], './pictures/dominos_moholt': ['20211001_182609.jpg', '20211001_182621.jpg', '20211001_182542.jpg', '20211001_182623.jpg', '.DS_Store', '20211001_182544.jpg', '20211001_182626.jpg', '20211001_182624.jpg', '20211001_182618.jpg', '20211001_182547.jpg', '20211001_182619.jpg', '20211001_182602.jpg', '20211001_182606.jpg', '20211001_182612.jpg'], './pictures/Trondheimsporten': ['IMG_1251.HEIC', 'IMG_1197.HEIC', 'IMG_1247.HEIC', 'IMG_1230.HEIC', 'IMG_1226.HEIC', 'IMG_1227.HEIC', 'IMG_1231.HEIC', 'IMG_1246.HEIC', 'IMG_1196.HEIC', 'IMG_1250.HEIC', 'IMG_1236.HEIC', 'IMG_1220.HEIC', 'IMG_1200.HEIC', 'IMG_1257.HEIC', 'IMG_1191.HEIC', 'IMG_1241.HEIC', 'IMG_1187.HEIC', 'IMG_1216.HEIC', 'IMG_1217.HEIC', 'IMG_1186.HEIC', 'IMG_1240.HEIC', 'IMG_1190.HEIC', 'IMG_1256.HEIC', 'IMG_1201.HEIC', 'IMG_1221.HEIC', 'IMG_1237.HEIC', 'IMG_1222.HEIC', 'IMG_1218.HEIC', 'IMG_1189.HEIC', 'IMG_1238.HEIC', 'IMG_1214.HEIC', 'IMG_1243.HEIC', 'IMG_1193.HEIC', 'IMG_1255.HEIC', 'IMG_1202.HEIC', 'IMG_1203.HEIC', 'IMG_1192.HEIC', 'IMG_1242.HEIC', 'IMG_1215.HEIC', 'IMG_1239.HEIC', 'IMG_1258.HEIC', 'IMG_1188.HEIC', 'IMG_1219.HEIC', 'IMG_1223.HEIC', 'IMG_1228.HEIC', 'IMG_1245.HEIC', 'IMG_1195.HEIC', 'IMG_1253.HEIC', 'IMG_1204.HEIC', 'IMG_1224.HEIC', 'IMG_1232.HEIC', 'IMG_1249.HEIC', 'IMG_1199.HEIC', 'IMG_1198.HEIC', 'IMG_1248.HEIC', 'IMG_1233.HEIC', 'IMG_1225.HEIC', 'IMG_1205.HEIC', 'IMG_1252.HEIC', 'IMG_1194.HEIC', 'IMG_1244.HEIC', 'IMG_1213.HEIC', 'IMG_1229.HEIC'], './pictures/Scandic': ['IMG_0138.HEIC', 'IMG_0134.HEIC', 'IMG_0122.HEIC', 'IMG_0123.HEIC', 'IMG_0135.HEIC', 'IMG_0139.HEIC', 'IMG_0142.HEIC', 'IMG_0132.HEIC', 'IMG_0124.HEIC', 'IMG_0128.HEIC', 'IMG_0129.HEIC', 'IMG_0125.HEIC', 'IMG_0133.HEIC', 'IMG_0126.HEIC', 'IMG_0130.HEIC', 'IMG_0131.HEIC', 'IMG_0127.HEIC', 'IMG_0141.HEIC', 'IMG_0120.HEIC', 'IMG_0136.HEIC', 'IMG_0137.HEIC', 'IMG_0121.HEIC', 'IMG_0140.HEIC']}\n"
     ]
    }
   ],
   "source": [
    "def get_folders_in_folder():\n",
    "    rootDir = '.'\n",
    "    folder_with_files = {}\n",
    "\n",
    "    for dir_name, subdir_list, file_list in os.walk(rootDir):\n",
    "        #print(dir_name)\n",
    "        if(file_list != [] and (imghdr.what(dir_name +\"/\" +file_list[0]) != None) or \"HEIC\" in file_list[0]): #må muligens endres til / på andre datamaskiner\n",
    "            folder_with_files[dir_name] = file_list \n",
    "        #print(file_list)\n",
    "    \n",
    "    #for i in folder_with_files:     #se om riktig\n",
    "        #print (i)#, \"\\n\", a[i])\n",
    "    return folder_with_files\n",
    "print(get_folders_in_folder())\n"
   ]
  },
  {
   "cell_type": "code",
   "execution_count": null,
   "metadata": {},
   "outputs": [],
   "source": [
    "def get_key(val):\n",
    "    for key, value in dicPic.items():\n",
    "         if val == value:\n",
    "             return key"
   ]
  },
  {
   "cell_type": "code",
   "execution_count": 30,
   "metadata": {
    "tags": []
   },
   "outputs": [
    {
     "output_type": "stream",
     "name": "stdout",
     "text": [
      "./pictures/Hovedbygget\n./pictures/sykkelvei_eberg\n./pictures/omega_tog\n./pictures/samf\n./pictures/klatrevegg_moholy\n./pictures/kirke_fra_bro\n./pictures/moholt1\n./pictures/dominos_moholt\n./pictures/Trondheimsporten\n./pictures/Scandic\n11108\n"
     ]
    }
   ],
   "source": [
    "dicPic = get_folders_in_folder() \n",
    "preTrainingData = []\n",
    "whatKeyWeAreOn = -1\n",
    "keyList = list(dicPic.keys())\n",
    "#print(keyList)\n",
    "\n",
    "for building in dicPic.values():\n",
    "    whatKeyWeAreOn += 1\n",
    "    index = 0\n",
    "    while(index < len(building)): \n",
    "        p_base = building[index]\n",
    "        for p_compare in building:\n",
    "            if p_compare != p_base:\n",
    "                trainingCase = []\n",
    "                trainingCase.append(keyList[whatKeyWeAreOn] + \"/\" + p_base)\n",
    "                trainingCase.append(keyList[whatKeyWeAreOn] + \"/\" + p_compare)\n",
    "                preTrainingData.append(trainingCase) \n",
    "\n",
    "        index += 1 \n",
    "    \n",
    "\n",
    "\n",
    "print(len(preTrainingData))\n"
   ]
  },
  {
   "cell_type": "code",
   "execution_count": null,
   "metadata": {},
   "outputs": [],
   "source": [
    "def "
   ]
  },
  {
   "cell_type": "code",
   "execution_count": 26,
   "metadata": {},
   "outputs": [],
   "source": [
    "PICTURESDIR = '/Users/lea/Documents/GitHub/photo-caching/training/pictures'\n",
    "CATEGORIES = ['dominos_moholt', 'kirke_fra_bro', 'klatrevegg_moholy', 'moholt1', 'Scandic', 'sykkelvei_eberg','samf','Trondheimsporten']\n",
    "training_data = []\n",
    "IMG_SIZE = 128\n",
    "\n",
    "def create_training_data():\n",
    "    for category in CATEGORIES:\n",
    "        path = os.path.join(PICTURESDIR, category)\n",
    "        class_num = CATEGORIES.index(category)\n",
    "        for img in os.listdir(path):\n",
    "            try:\n",
    "                img_array = cv2.imread(os.path.join(path, img), cv2.IMREAD_UNCHANGED)\n",
    "                new_array = cv2.resize(img_array, (IMG_SIZE, IMG_SIZE))\n",
    "                training_data.append([new_array, class_num])\n",
    "            except Exception as e:\n",
    "                pass\n",
    "\n",
    "create_training_data()\n"
   ]
  },
  {
   "cell_type": "code",
   "execution_count": 15,
   "metadata": {},
   "outputs": [
    {
     "name": "stdout",
     "output_type": "stream",
     "text": [
      "93\n"
     ]
    }
   ],
   "source": [
    "print(len(training_data))"
   ]
  },
  {
   "cell_type": "code",
   "execution_count": 16,
   "metadata": {},
   "outputs": [
    {
     "name": "stdout",
     "output_type": "stream",
     "text": [
      "5\n",
      "2\n",
      "2\n",
      "2\n",
      "2\n",
      "5\n",
      "5\n",
      "2\n",
      "0\n",
      "5\n"
     ]
    }
   ],
   "source": [
    "import random \n",
    "\n",
    "random.shuffle(training_data)\n",
    "\n",
    "for sample in training_data[:10]:\n",
    "    print(sample[1])"
   ]
  },
  {
   "cell_type": "code",
   "execution_count": 28,
   "metadata": {},
   "outputs": [],
   "source": [
    "import pickle\n",
    "\n",
    "pickle_out = open(\"X.pickle\", \"wb\")\n",
    "pickle.dump(X, pickle_out)\n",
    "pickle_out.close()\n",
    "\n",
    "pickle_out = open(\"y.pickle\", \"wb\")\n",
    "pickle.dump(y, pickle_out)\n",
    "pickle_out.close()\n",
    "\n",
    "pickle_in = open(\"X.pickle\", \"rb\")\n",
    "X = pickle.load(pickle_in)"
   ]
  }
 ],
 "metadata": {
  "kernelspec": {
   "display_name": "Python 3",
   "name": "python3",
   "language": "python"
  },
  "language_info": {
   "codemirror_mode": {
    "name": "ipython",
    "version": 3
   },
   "file_extension": ".py",
   "mimetype": "text/x-python",
   "name": "python",
   "nbconvert_exporter": "python",
   "pygments_lexer": "ipython3",
   "version": "3.7.9-final"
  },
  "orig_nbformat": 2
 },
 "nbformat": 4,
 "nbformat_minor": 2
}